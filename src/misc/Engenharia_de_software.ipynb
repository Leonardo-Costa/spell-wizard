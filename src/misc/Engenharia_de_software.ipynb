{
  "nbformat": 4,
  "nbformat_minor": 0,
  "metadata": {
    "colab": {
      "provenance": [],
      "collapsed_sections": []
    },
    "kernelspec": {
      "name": "python3",
      "display_name": "Python 3"
    },
    "language_info": {
      "name": "python"
    }
  },
  "cells": [
    {
      "cell_type": "code",
      "source": [
        "import requests\n",
        "import re\n",
        "from bs4 import BeautifulSoup\n",
        "import pandas as pd"
      ],
      "metadata": {
        "id": "1OKI9QUiabbf"
      },
      "execution_count": null,
      "outputs": []
    },
    {
      "cell_type": "code",
      "source": [
        "response = requests.get(\"https://www.dnd5eapi.co/api/spells\")"
      ],
      "metadata": {
        "id": "tLQQyTXUagdH"
      },
      "execution_count": null,
      "outputs": []
    },
    {
      "cell_type": "code",
      "source": [
        "html = open(\"data.html\", \"r\")\n",
        "soup = BeautifulSoup(html, 'html.parser')"
      ],
      "metadata": {
        "id": "XjgnKvmvcr7l"
      },
      "execution_count": null,
      "outputs": []
    },
    {
      "cell_type": "code",
      "source": [
        "for script in soup([\"script\", \"style\"]):\n",
        "    script.extract()    # rip it out"
      ],
      "metadata": {
        "id": "ftip2kqJ-1_M"
      },
      "execution_count": null,
      "outputs": []
    },
    {
      "cell_type": "code",
      "source": [
        "text = soup.get_text()"
      ],
      "metadata": {
        "id": "G1s3_eah-5SH"
      },
      "execution_count": null,
      "outputs": []
    },
    {
      "cell_type": "code",
      "source": [
        "# break into lines and remove leading and trailing space on each\n",
        "lines = (line.strip() for line in text.splitlines())\n",
        "# break multi-headlines into a line each\n",
        "chunks = (phrase.strip() for line in lines for phrase in line.split(\"  \"))\n",
        "# drop blank lines\n",
        "text = '\\n'.join(chunk for chunk in chunks if chunk)"
      ],
      "metadata": {
        "id": "9yQdFcXk-9PQ"
      },
      "execution_count": null,
      "outputs": []
    },
    {
      "cell_type": "code",
      "source": [
        "text = text.split(\" ★\")"
      ],
      "metadata": {
        "id": "5JXq9LuI--E9"
      },
      "execution_count": null,
      "outputs": []
    },
    {
      "cell_type": "code",
      "source": [
        "comentarios = []\n",
        "for i in text:\n",
        "  comentarios.append(\"★\" + i)"
      ],
      "metadata": {
        "id": "V8tseVN7_TrA"
      },
      "execution_count": null,
      "outputs": []
    },
    {
      "cell_type": "code",
      "source": [
        "comentarios = comentarios[6:]"
      ],
      "metadata": {
        "id": "i34kaPjn_p3c"
      },
      "execution_count": null,
      "outputs": []
    },
    {
      "cell_type": "code",
      "source": [
        "spells = []\n",
        "for i in range(len(comentarios)):\n",
        "  aux = comentarios[i].split(\".\")\n",
        "  spells.append(aux[-1])\n",
        "  comentarios[i] = '.'.join(aux[:-1]) + \".\"\n",
        "\n",
        "spells.insert(0, \"Acid Splash\")\n",
        "spells = spells[:-1]"
      ],
      "metadata": {
        "id": "3BBVFcjKAkQJ"
      },
      "execution_count": null,
      "outputs": []
    },
    {
      "cell_type": "code",
      "source": [
        "for i in range(len(comentarios)):\n",
        "  print(spells[i], comentarios[i])"
      ],
      "metadata": {
        "id": "sNPbj0W0AZa0"
      },
      "execution_count": null,
      "outputs": []
    },
    {
      "cell_type": "code",
      "source": [
        "rating = []\n",
        "for i in range(len(comentarios)):\n",
        "  rating.append(comentarios[i].count(\"★\"))"
      ],
      "metadata": {
        "id": "_X3sXNIPERP_"
      },
      "execution_count": null,
      "outputs": []
    },
    {
      "cell_type": "code",
      "source": [
        "data = {'Nome': spells,\n",
        "        'Rating': rating,\n",
        "        'Description': comentarios}\n",
        "  "
      ],
      "metadata": {
        "id": "RwX7JvoXEgLL"
      },
      "execution_count": null,
      "outputs": []
    },
    {
      "cell_type": "code",
      "source": [
        "df = pd.DataFrame(data)"
      ],
      "metadata": {
        "id": "0tQtcFu-D1yS"
      },
      "execution_count": null,
      "outputs": []
    },
    {
      "cell_type": "code",
      "source": [
        "df.sort_values('Nome')"
      ],
      "metadata": {
        "colab": {
          "base_uri": "https://localhost:8080/",
          "height": 424
        },
        "id": "NU3JT_atHiMq",
        "outputId": "c68bdc09-66e2-4abe-cfc3-7f4bd96668fa"
      },
      "execution_count": null,
      "outputs": [
        {
          "output_type": "execute_result",
          "data": {
            "text/plain": [
              "                Nome  Rating  \\\n",
              "414       Simulacrum       5   \n",
              "0        Acid Splash       3   \n",
              "116              Aid       3   \n",
              "44             Alarm       3   \n",
              "117       Alter Self       3   \n",
              "..               ...     ...   \n",
              "394   Word of Recall       4   \n",
              "350  Wrath of Nature       3   \n",
              "113   Wrathful Smite       5   \n",
              "114    Zephyr Strike       4   \n",
              "185    Zone of Truth       1   \n",
              "\n",
              "                                           Description  \n",
              "414  ★★★★★ This spell is ridiculous. You create a c...  \n",
              "0    ★★★ This has value against 2 opponents, but it...  \n",
              "116  ★★★ This stacks with temporary hit points, bec...  \n",
              "44   ★★★ Rituals are good. This is a useful ritual....  \n",
              "117  ★★★ You gain some shapeshifting ability, inclu...  \n",
              "..                                                 ...  \n",
              "394  ★★★★ This is a solid escape spell, with fast-t...  \n",
              "350  ★★★ This is an area-control spell with multipl...  \n",
              "113  ★★★★★ This spell adds a tiny amount of damage ...  \n",
              "114  ★★★★ For a bonus action, you get a strong boos...  \n",
              "185  ★ This spell is situational and has a save for...  \n",
              "\n",
              "[477 rows x 3 columns]"
            ],
            "text/html": [
              "\n",
              "  <div id=\"df-8e478e8c-0ce3-4105-88d8-c1c0c5fe0cec\">\n",
              "    <div class=\"colab-df-container\">\n",
              "      <div>\n",
              "<style scoped>\n",
              "    .dataframe tbody tr th:only-of-type {\n",
              "        vertical-align: middle;\n",
              "    }\n",
              "\n",
              "    .dataframe tbody tr th {\n",
              "        vertical-align: top;\n",
              "    }\n",
              "\n",
              "    .dataframe thead th {\n",
              "        text-align: right;\n",
              "    }\n",
              "</style>\n",
              "<table border=\"1\" class=\"dataframe\">\n",
              "  <thead>\n",
              "    <tr style=\"text-align: right;\">\n",
              "      <th></th>\n",
              "      <th>Nome</th>\n",
              "      <th>Rating</th>\n",
              "      <th>Description</th>\n",
              "    </tr>\n",
              "  </thead>\n",
              "  <tbody>\n",
              "    <tr>\n",
              "      <th>414</th>\n",
              "      <td>Simulacrum</td>\n",
              "      <td>5</td>\n",
              "      <td>★★★★★ This spell is ridiculous. You create a c...</td>\n",
              "    </tr>\n",
              "    <tr>\n",
              "      <th>0</th>\n",
              "      <td>Acid Splash</td>\n",
              "      <td>3</td>\n",
              "      <td>★★★ This has value against 2 opponents, but it...</td>\n",
              "    </tr>\n",
              "    <tr>\n",
              "      <th>116</th>\n",
              "      <td>Aid</td>\n",
              "      <td>3</td>\n",
              "      <td>★★★ This stacks with temporary hit points, bec...</td>\n",
              "    </tr>\n",
              "    <tr>\n",
              "      <th>44</th>\n",
              "      <td>Alarm</td>\n",
              "      <td>3</td>\n",
              "      <td>★★★ Rituals are good. This is a useful ritual....</td>\n",
              "    </tr>\n",
              "    <tr>\n",
              "      <th>117</th>\n",
              "      <td>Alter Self</td>\n",
              "      <td>3</td>\n",
              "      <td>★★★ You gain some shapeshifting ability, inclu...</td>\n",
              "    </tr>\n",
              "    <tr>\n",
              "      <th>...</th>\n",
              "      <td>...</td>\n",
              "      <td>...</td>\n",
              "      <td>...</td>\n",
              "    </tr>\n",
              "    <tr>\n",
              "      <th>394</th>\n",
              "      <td>Word of Recall</td>\n",
              "      <td>4</td>\n",
              "      <td>★★★★ This is a solid escape spell, with fast-t...</td>\n",
              "    </tr>\n",
              "    <tr>\n",
              "      <th>350</th>\n",
              "      <td>Wrath of Nature</td>\n",
              "      <td>3</td>\n",
              "      <td>★★★ This is an area-control spell with multipl...</td>\n",
              "    </tr>\n",
              "    <tr>\n",
              "      <th>113</th>\n",
              "      <td>Wrathful Smite</td>\n",
              "      <td>5</td>\n",
              "      <td>★★★★★ This spell adds a tiny amount of damage ...</td>\n",
              "    </tr>\n",
              "    <tr>\n",
              "      <th>114</th>\n",
              "      <td>Zephyr Strike</td>\n",
              "      <td>4</td>\n",
              "      <td>★★★★ For a bonus action, you get a strong boos...</td>\n",
              "    </tr>\n",
              "    <tr>\n",
              "      <th>185</th>\n",
              "      <td>Zone of Truth</td>\n",
              "      <td>1</td>\n",
              "      <td>★ This spell is situational and has a save for...</td>\n",
              "    </tr>\n",
              "  </tbody>\n",
              "</table>\n",
              "<p>477 rows × 3 columns</p>\n",
              "</div>\n",
              "      <button class=\"colab-df-convert\" onclick=\"convertToInteractive('df-8e478e8c-0ce3-4105-88d8-c1c0c5fe0cec')\"\n",
              "              title=\"Convert this dataframe to an interactive table.\"\n",
              "              style=\"display:none;\">\n",
              "        \n",
              "  <svg xmlns=\"http://www.w3.org/2000/svg\" height=\"24px\"viewBox=\"0 0 24 24\"\n",
              "       width=\"24px\">\n",
              "    <path d=\"M0 0h24v24H0V0z\" fill=\"none\"/>\n",
              "    <path d=\"M18.56 5.44l.94 2.06.94-2.06 2.06-.94-2.06-.94-.94-2.06-.94 2.06-2.06.94zm-11 1L8.5 8.5l.94-2.06 2.06-.94-2.06-.94L8.5 2.5l-.94 2.06-2.06.94zm10 10l.94 2.06.94-2.06 2.06-.94-2.06-.94-.94-2.06-.94 2.06-2.06.94z\"/><path d=\"M17.41 7.96l-1.37-1.37c-.4-.4-.92-.59-1.43-.59-.52 0-1.04.2-1.43.59L10.3 9.45l-7.72 7.72c-.78.78-.78 2.05 0 2.83L4 21.41c.39.39.9.59 1.41.59.51 0 1.02-.2 1.41-.59l7.78-7.78 2.81-2.81c.8-.78.8-2.07 0-2.86zM5.41 20L4 18.59l7.72-7.72 1.47 1.35L5.41 20z\"/>\n",
              "  </svg>\n",
              "      </button>\n",
              "      \n",
              "  <style>\n",
              "    .colab-df-container {\n",
              "      display:flex;\n",
              "      flex-wrap:wrap;\n",
              "      gap: 12px;\n",
              "    }\n",
              "\n",
              "    .colab-df-convert {\n",
              "      background-color: #E8F0FE;\n",
              "      border: none;\n",
              "      border-radius: 50%;\n",
              "      cursor: pointer;\n",
              "      display: none;\n",
              "      fill: #1967D2;\n",
              "      height: 32px;\n",
              "      padding: 0 0 0 0;\n",
              "      width: 32px;\n",
              "    }\n",
              "\n",
              "    .colab-df-convert:hover {\n",
              "      background-color: #E2EBFA;\n",
              "      box-shadow: 0px 1px 2px rgba(60, 64, 67, 0.3), 0px 1px 3px 1px rgba(60, 64, 67, 0.15);\n",
              "      fill: #174EA6;\n",
              "    }\n",
              "\n",
              "    [theme=dark] .colab-df-convert {\n",
              "      background-color: #3B4455;\n",
              "      fill: #D2E3FC;\n",
              "    }\n",
              "\n",
              "    [theme=dark] .colab-df-convert:hover {\n",
              "      background-color: #434B5C;\n",
              "      box-shadow: 0px 1px 3px 1px rgba(0, 0, 0, 0.15);\n",
              "      filter: drop-shadow(0px 1px 2px rgba(0, 0, 0, 0.3));\n",
              "      fill: #FFFFFF;\n",
              "    }\n",
              "  </style>\n",
              "\n",
              "      <script>\n",
              "        const buttonEl =\n",
              "          document.querySelector('#df-8e478e8c-0ce3-4105-88d8-c1c0c5fe0cec button.colab-df-convert');\n",
              "        buttonEl.style.display =\n",
              "          google.colab.kernel.accessAllowed ? 'block' : 'none';\n",
              "\n",
              "        async function convertToInteractive(key) {\n",
              "          const element = document.querySelector('#df-8e478e8c-0ce3-4105-88d8-c1c0c5fe0cec');\n",
              "          const dataTable =\n",
              "            await google.colab.kernel.invokeFunction('convertToInteractive',\n",
              "                                                     [key], {});\n",
              "          if (!dataTable) return;\n",
              "\n",
              "          const docLinkHtml = 'Like what you see? Visit the ' +\n",
              "            '<a target=\"_blank\" href=https://colab.research.google.com/notebooks/data_table.ipynb>data table notebook</a>'\n",
              "            + ' to learn more about interactive tables.';\n",
              "          element.innerHTML = '';\n",
              "          dataTable['output_type'] = 'display_data';\n",
              "          await google.colab.output.renderOutput(dataTable, element);\n",
              "          const docLink = document.createElement('div');\n",
              "          docLink.innerHTML = docLinkHtml;\n",
              "          element.appendChild(docLink);\n",
              "        }\n",
              "      </script>\n",
              "    </div>\n",
              "  </div>\n",
              "  "
            ]
          },
          "metadata": {},
          "execution_count": 124
        }
      ]
    },
    {
      "cell_type": "code",
      "source": [
        "df.to_json(\"comentarios.json\", orient=\"table\")"
      ],
      "metadata": {
        "id": "jTFhPTTPD5rx"
      },
      "execution_count": null,
      "outputs": []
    },
    {
      "cell_type": "code",
      "source": [
        "import json\n",
        "json_list = json.loads(json.dumps(list(df.T.to_dict().values())))"
      ],
      "metadata": {
        "id": "FZsvNLkOIhLg"
      },
      "execution_count": null,
      "outputs": []
    },
    {
      "cell_type": "code",
      "source": [
        "with open('comentarios.json', 'w') as f:\n",
        "    f.write(str(json_list))"
      ],
      "metadata": {
        "id": "1z53sLIwIkzF"
      },
      "execution_count": null,
      "outputs": []
    }
  ]
}